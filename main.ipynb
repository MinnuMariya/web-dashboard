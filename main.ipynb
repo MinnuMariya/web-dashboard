{
 "cells": [
  {
   "cell_type": "code",
   "execution_count": 2,
   "metadata": {},
   "outputs": [],
   "source": [
    "import pandas as pd"
   ]
  },
  {
   "cell_type": "code",
   "execution_count": 3,
   "metadata": {},
   "outputs": [],
   "source": [
    "df = pd.read_json('./Twibot-20/test.json')"
   ]
  },
  {
   "cell_type": "code",
   "execution_count": 4,
   "metadata": {},
   "outputs": [
    {
     "data": {
      "text/plain": [
       "Index(['ID', 'profile', 'tweet', 'neighbor', 'domain', 'label'], dtype='object')"
      ]
     },
     "execution_count": 4,
     "metadata": {},
     "output_type": "execute_result"
    }
   ],
   "source": [
    "df.columns"
   ]
  },
  {
   "cell_type": "code",
   "execution_count": 5,
   "metadata": {},
   "outputs": [
    {
     "data": {
      "text/plain": [
       "1188812492010487808"
      ]
     },
     "execution_count": 5,
     "metadata": {},
     "output_type": "execute_result"
    }
   ],
   "source": [
    "df.ID[0]"
   ]
  },
  {
   "cell_type": "code",
   "execution_count": 6,
   "metadata": {},
   "outputs": [
    {
     "data": {
      "text/plain": [
       "{'id': '1188812492010487808 ',\n",
       " 'id_str': '1188812492010487808 ',\n",
       " 'name': 'Sharon Israel ⭐️⭐️⭐️ ',\n",
       " 'screen_name': 'SharonIsrael10 ',\n",
       " 'location': 'Los Angeles & Colorado ',\n",
       " 'profile_location': 'None ',\n",
       " 'description': 'Day 1 Trump supporter. I rode the escalator! Constitutionalist traditionalist conservative. My 1st vote was Reagan! America, family first. #1A #2A #MAGA #KAG ',\n",
       " 'url': 'None ',\n",
       " 'entities': \"{'description': {'urls': []}} \",\n",
       " 'protected': 'False ',\n",
       " 'followers_count': '16596 ',\n",
       " 'friends_count': '16944 ',\n",
       " 'listed_count': '1 ',\n",
       " 'created_at': 'Mon Oct 28 13:39:41 +0000 2019 ',\n",
       " 'favourites_count': '42684 ',\n",
       " 'utc_offset': 'None ',\n",
       " 'time_zone': 'None ',\n",
       " 'geo_enabled': 'False ',\n",
       " 'verified': 'False ',\n",
       " 'statuses_count': '49757 ',\n",
       " 'lang': 'None ',\n",
       " 'contributors_enabled': 'False ',\n",
       " 'is_translator': 'False ',\n",
       " 'is_translation_enabled': 'False ',\n",
       " 'profile_background_color': 'F5F8FA ',\n",
       " 'profile_background_image_url': 'None ',\n",
       " 'profile_background_image_url_https': 'None ',\n",
       " 'profile_background_tile': 'False ',\n",
       " 'profile_image_url': 'http://pbs.twimg.com/profile_images/1188836420737069057/HkZ1HY1G_normal.jpg ',\n",
       " 'profile_image_url_https': 'https://pbs.twimg.com/profile_images/1188836420737069057/HkZ1HY1G_normal.jpg ',\n",
       " 'profile_link_color': '1DA1F2 ',\n",
       " 'profile_sidebar_border_color': 'C0DEED ',\n",
       " 'profile_sidebar_fill_color': 'DDEEF6 ',\n",
       " 'profile_text_color': '333333 ',\n",
       " 'profile_use_background_image': 'True ',\n",
       " 'has_extended_profile': 'True ',\n",
       " 'default_profile': 'True ',\n",
       " 'default_profile_image': 'False '}"
      ]
     },
     "execution_count": 6,
     "metadata": {},
     "output_type": "execute_result"
    }
   ],
   "source": [
    "df.profile[0]"
   ]
  },
  {
   "cell_type": "code",
   "execution_count": 7,
   "metadata": {},
   "outputs": [
    {
     "name": "stdout",
     "output_type": "stream",
     "text": [
      "['clevelanddotcom']\n"
     ]
    }
   ],
   "source": [
    "import re\n",
    "\n",
    "def extract_usernames(tweet):\n",
    "    # Define a regular expression pattern to match Twitter handles\n",
    "    pattern = r'@(\\w+)'\n",
    "\n",
    "    # Use the findall() method to find all matches in the tweet\n",
    "    usernames = re.findall(pattern, tweet)\n",
    "\n",
    "    return usernames\n",
    "\n",
    "# Example usage:\n",
    "tweet = \"RT @clevelanddotcom: Three Ohio House Republicans have drafted articles of impeachment against Gov. Mike DeWine, claiming many of his admin…\"\n",
    "usernames = extract_usernames(tweet)\n",
    "print(usernames)\n"
   ]
  },
  {
   "cell_type": "code",
   "execution_count": null,
   "metadata": {},
   "outputs": [],
   "source": []
  }
 ],
 "metadata": {
  "kernelspec": {
   "display_name": "Python 3",
   "language": "python",
   "name": "python3"
  },
  "language_info": {
   "codemirror_mode": {
    "name": "ipython",
    "version": 3
   },
   "file_extension": ".py",
   "mimetype": "text/x-python",
   "name": "python",
   "nbconvert_exporter": "python",
   "pygments_lexer": "ipython3",
   "version": "3.11.7"
  }
 },
 "nbformat": 4,
 "nbformat_minor": 2
}
